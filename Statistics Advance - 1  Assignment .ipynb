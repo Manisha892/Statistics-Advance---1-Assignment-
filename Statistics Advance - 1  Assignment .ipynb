{
 "cells": [
  {
   "cell_type": "markdown",
   "id": "e4d6e368-045c-489f-a53b-922667799c97",
   "metadata": {},
   "source": [
    "### Question (8) Question: You have two sets of data representing the incomes of two different professions \n",
    "### Profession A: [48, 52, 55, 60, 62]\n",
    "### Profession B: [45, 50, 55, 52, 47] \n",
    "### Perform an F-test to determine if the variances of the two professions'incomes are equal. What are your conclusions based on the F-test?\n",
    "### Task: Use Python to calculate the F-statistic and p-value for the given data.\n",
    "### Objective: Gain experience in performing F-tests and interpreting the results in terms of variance comparison."
   ]
  },
  {
   "cell_type": "markdown",
   "id": "878f1f2f-ebb7-4d65-9fdb-e25520853963",
   "metadata": {},
   "source": [
    "### Answer : Python implementation :  Use Python to calculate the F-statistic and p-value for the given data."
   ]
  },
  {
   "cell_type": "code",
   "execution_count": 50,
   "id": "c8e98cb5-c989-4c8a-9755-3303fdacdd2d",
   "metadata": {},
   "outputs": [],
   "source": [
    "Profession_A = [48, 52, 55, 60, 62]\n",
    "Profession_B = [45, 50, 55, 52, 47]"
   ]
  },
  {
   "cell_type": "code",
   "execution_count": 52,
   "id": "b2a786f9-10a4-40ad-bf7a-4decd5d3ad06",
   "metadata": {},
   "outputs": [],
   "source": [
    "## Calculate the F test statistics\n",
    "import numpy as np\n",
    "f_test=np.var(Profession_A)/np.var(Profession_B)"
   ]
  },
  {
   "cell_type": "code",
   "execution_count": 54,
   "id": "8369d1ac-be1b-490e-a925-a2397f050014",
   "metadata": {},
   "outputs": [
    {
     "data": {
      "text/plain": [
       "2.089171974522293"
      ]
     },
     "execution_count": 54,
     "metadata": {},
     "output_type": "execute_result"
    }
   ],
   "source": [
    "f_test"
   ]
  },
  {
   "cell_type": "code",
   "execution_count": 56,
   "id": "4c5cb301-c1de-48a1-8d7b-f6b98237055b",
   "metadata": {},
   "outputs": [],
   "source": [
    "# Calculate variances\n",
    "variance_A = np.var(Profession_A, ddof=1)              # Sample variance for Profession A\n",
    "variance_B = np.var(Profession_B, ddof=1)              # Sample variance for Profession B"
   ]
  },
  {
   "cell_type": "code",
   "execution_count": 58,
   "id": "c8449e4d-c3ee-43ec-b01b-cb6d776b2b39",
   "metadata": {},
   "outputs": [],
   "source": [
    "# Calculate the F-statistic\n",
    "F_stat = variance_A / variance_B"
   ]
  },
  {
   "cell_type": "code",
   "execution_count": 60,
   "id": "e45fdb26-05a2-429d-bb0b-b0ed277fb343",
   "metadata": {},
   "outputs": [],
   "source": [
    "## Degree of freedom for both samples\n",
    "df1=len(Profession_A)-1\n",
    "df2=len(Profession_B)-1\n",
    "significane_value=0.05"
   ]
  },
  {
   "cell_type": "code",
   "execution_count": 38,
   "id": "e1f3289a-794a-4272-b14e-c55732774047",
   "metadata": {},
   "outputs": [],
   "source": [
    "import scipy.stats as stat"
   ]
  },
  {
   "cell_type": "code",
   "execution_count": 40,
   "id": "f4c6d6b6-b1bb-4d7e-a57a-58e00c060b6a",
   "metadata": {},
   "outputs": [],
   "source": [
    "critical_value=stat.f.ppf(q=1-significane_value,dfn=df1,dfd=df2)"
   ]
  },
  {
   "cell_type": "code",
   "execution_count": 42,
   "id": "fb853bcf-eb38-4516-a9d8-997c8d545292",
   "metadata": {},
   "outputs": [
    {
     "name": "stdout",
     "output_type": "stream",
     "text": [
      "We fail to reject the null hypothesis\n"
     ]
    }
   ],
   "source": [
    "if f_test>critical_value:\n",
    "    print(\"Reject the Null Hypothesis\")\n",
    "else:\n",
    "    print(\"We fail to reject the null hypothesis\")"
   ]
  },
  {
   "cell_type": "code",
   "execution_count": 62,
   "id": "08211fac-f292-4e0b-8adc-c9b301fc2642",
   "metadata": {},
   "outputs": [
    {
     "data": {
      "text/plain": [
       "32.8"
      ]
     },
     "execution_count": 62,
     "metadata": {},
     "output_type": "execute_result"
    }
   ],
   "source": [
    "variance_A"
   ]
  },
  {
   "cell_type": "code",
   "execution_count": 64,
   "id": "76547473-36b6-46c3-abbf-9b4616fd56e0",
   "metadata": {},
   "outputs": [
    {
     "data": {
      "text/plain": [
       "15.7"
      ]
     },
     "execution_count": 64,
     "metadata": {},
     "output_type": "execute_result"
    }
   ],
   "source": [
    "variance_B"
   ]
  },
  {
   "cell_type": "code",
   "execution_count": 66,
   "id": "f4507606-152c-4fd4-bd38-e1a8fb60375f",
   "metadata": {},
   "outputs": [
    {
     "data": {
      "text/plain": [
       "2.089171974522293"
      ]
     },
     "execution_count": 66,
     "metadata": {},
     "output_type": "execute_result"
    }
   ],
   "source": [
    "f_test"
   ]
  },
  {
   "cell_type": "code",
   "execution_count": 119,
   "id": "2d4337f2-e886-4834-b3a5-4d33ec477ef5",
   "metadata": {},
   "outputs": [],
   "source": [
    "# Calculate the p-value for a two-tailed F-test\n",
    "from scipy.stats import f\n",
    "p_value = 2 * min(f.cdf(F_stat, df1, df2), 1 - f.cdf(F_stat, df1, df2))"
   ]
  },
  {
   "cell_type": "code",
   "execution_count": 121,
   "id": "6717eaaf-dcf3-4546-8132-4b7f880c2e83",
   "metadata": {},
   "outputs": [
    {
     "data": {
      "text/plain": [
       "0.49304859900533904"
      ]
     },
     "execution_count": 121,
     "metadata": {},
     "output_type": "execute_result"
    }
   ],
   "source": [
    "p_value"
   ]
  },
  {
   "cell_type": "raw",
   "id": "d652b9d0-e929-4b8d-b4fb-6881e6186fb7",
   "metadata": {},
   "source": [
    "# Gain experience in performing F-tests and interpreting the results in terms of variance comparison.\n",
    ">> Since the p-value (0.493) is greater than the common significance level (e.g., 0.05), we fail to reject the null hypothesis. \n",
    ">> This suggests there is no significant evidence to conclude that the variances of incomes between the two professions are different. \n",
    ">> The variances are statistically similar."
   ]
  },
  {
   "cell_type": "markdown",
   "id": "63785e36-5e79-440c-b231-2bcc2e872e6f",
   "metadata": {},
   "source": [
    "### Question (9) Question: Conduct a one-way ANOVA to test whether there are any statistically significant differences in average heights between three different regions with the following data:\n",
    "### Region A: [160, 162, 165, 158, 164]\n",
    "### Region B: [172, 175, 170, 168, 174]\n",
    "### Region C: [180, 182, 179, 185, 183]\n",
    "### Task: Write Python code to perform the one-way ANOVA and interpret the results\f",
    "\n",
    "### Objective: Learn how to perform one-way ANOVA using Python and interpret F-statistic and p-value."
   ]
  },
  {
   "cell_type": "markdown",
   "id": "4a732bb2-5b91-48bc-a933-392726c9b7d9",
   "metadata": {},
   "source": [
    "### Answer : "
   ]
  },
  {
   "cell_type": "code",
   "execution_count": 127,
   "id": "c74dc47c-c666-49c1-a1e4-de16be311d95",
   "metadata": {
    "scrolled": true
   },
   "outputs": [
    {
     "name": "stdout",
     "output_type": "stream",
     "text": [
      "F-statistic: 67.87330316742101\n",
      "p-value: 2.870664187937026e-07\n",
      "Reject the null hypothesis: There is a statistically significant difference in means.\n"
     ]
    }
   ],
   "source": [
    "from scipy.stats import f_oneway\n",
    "\n",
    "# Data for the three regions\n",
    "region_A = [160, 162, 165, 158, 164]\n",
    "region_B = [172, 175, 170, 168, 174]\n",
    "region_C = [180, 182, 179, 185, 183]\n",
    "\n",
    "# Perform one-way ANOVA\n",
    "F_statistic, p_value = f_oneway(region_A, region_B, region_C)\n",
    "\n",
    "# Output the results\n",
    "print(\"F-statistic:\", F_statistic)\n",
    "print(\"p-value:\", p_value)\n",
    "\n",
    "# Interpretation\n",
    "alpha = 0.05                                 # Common significance level\n",
    "\n",
    "if p_value < alpha:\n",
    "    print(\"Reject the null hypothesis: There is a statistically significant difference in means.\")\n",
    "else:\n",
    "    print(\"Fail to reject the null hypothesis: No statistically significant difference in means.\")"
   ]
  },
  {
   "cell_type": "raw",
   "id": "cbe7b8b4-08d0-485e-9d9e-178ccf5c652a",
   "metadata": {},
   "source": [
    ">> F-statistic: Quantifies the ratio of variance between the groups to variance within the groups.\n",
    ">> p-value: Indicates whether the observed F-statistic is statistically significant."
   ]
  },
  {
   "cell_type": "code",
   "execution_count": null,
   "id": "bf31f3b9-0796-468a-b8ef-603eeca0a2a0",
   "metadata": {},
   "outputs": [],
   "source": []
  }
 ],
 "metadata": {
  "kernelspec": {
   "display_name": "Python 3 (ipykernel)",
   "language": "python",
   "name": "python3"
  },
  "language_info": {
   "codemirror_mode": {
    "name": "ipython",
    "version": 3
   },
   "file_extension": ".py",
   "mimetype": "text/x-python",
   "name": "python",
   "nbconvert_exporter": "python",
   "pygments_lexer": "ipython3",
   "version": "3.12.4"
  }
 },
 "nbformat": 4,
 "nbformat_minor": 5
}
